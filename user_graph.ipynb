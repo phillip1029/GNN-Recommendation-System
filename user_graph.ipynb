{
 "cells": [
  {
   "cell_type": "code",
   "execution_count": null,
   "metadata": {},
   "outputs": [],
   "source": [
    "# import libraries\n",
    "from pyvis.network import Network  # Interactive network visualization\n",
    "import pandas as pd # Data Frame\n",
    "import networkx as nx # Network analysis\n",
    "from tqdm.notebook import tqdm # Progress bar\n",
    "import webbrowser\n"
   ]
  },
  {
   "cell_type": "code",
   "execution_count": null,
   "metadata": {},
   "outputs": [],
   "source": [
    "# Read data\n",
    "ratings_df = pd.read_csv('data/BX-Book-Ratings.csv', sep=';', encoding='latin-1')\n",
    "users_df = pd.read_csv('data/BX-Users.csv', sep=';', encoding='latin-1')\n",
    "books_df = pd.read_csv('data/BX-Books.csv', sep=';', encoding='latin-1', on_bad_lines='skip')"
   ]
  },
  {
   "cell_type": "code",
   "execution_count": null,
   "metadata": {},
   "outputs": [],
   "source": [
    "books_df.columns = books_df.columns.str.lower()\n",
    "books_df.columns = books_df.columns.str.replace('-','_')\n",
    "books_df"
   ]
  },
  {
   "cell_type": "code",
   "execution_count": null,
   "metadata": {},
   "outputs": [],
   "source": [
    "users_df.columns = users_df.columns.str.lower()\n",
    "users_df.columns = users_df.columns.str.replace('-','_')\n",
    "users_df"
   ]
  },
  {
   "cell_type": "code",
   "execution_count": null,
   "metadata": {},
   "outputs": [],
   "source": [
    "ratings_df.columns = ratings_df.columns.str.lower()\n",
    "ratings_df.columns = ratings_df.columns.str.replace('-','_')\n",
    "ratings_df"
   ]
  },
  {
   "cell_type": "code",
   "execution_count": null,
   "metadata": {},
   "outputs": [],
   "source": [
    "user_counts = ratings_df['user_id'].value_counts()\n",
    "\n",
    "# Identify user_ids with more than 5000 occurrences\n",
    "high_frequency_users = user_counts[user_counts > 50000].index\n",
    "filtered_df = ratings_df.copy(deep=True)\n",
    "# Filter out these user_ids from df\n",
    "# filtered_df = filtered_df[~filtered_df['user_id'].isin(high_frequency_users)]\n",
    "# filtered_df = filtered_df[filtered_df['book_rating'] > 8]"
   ]
  },
  {
   "cell_type": "code",
   "execution_count": null,
   "metadata": {},
   "outputs": [],
   "source": [
    "df = filtered_df"
   ]
  },
  {
   "cell_type": "code",
   "execution_count": null,
   "metadata": {},
   "outputs": [],
   "source": [
    "def getColor(num):\n",
    "    selection = num % 4\n",
    "    table = {\n",
    "        0:\"#611C35\",\n",
    "        1:\"#2E5077\",\n",
    "        2:\"#FFA630\",\n",
    "        3:\"#FFD700\",\n",
    "    }\n",
    "    return table[selection]\n",
    "\n",
    "def getSize(num):\n",
    "    selection = num % 4\n",
    "    table = {\n",
    "        0:600,\n",
    "        1:400,\n",
    "        2:200,\n",
    "        3:100,\n",
    "    }\n",
    "    return table[selection]"
   ]
  },
  {
   "cell_type": "code",
   "execution_count": null,
   "metadata": {},
   "outputs": [],
   "source": [
    "def processing(items:set,next_layer_df:pd.DataFrame,current_layer_column_name:str, next_layer_column_name:str,layer_count:int,G:nx.Graph,next_item_df:pd.DataFrame,top_n:int=5):\n",
    "    temp_set = set()\n",
    "    if layer_count == 3:\n",
    "        occurrences = {}\n",
    "        books = next_layer_df[next_layer_df['user_id'].isin(items)]\n",
    "        for book in books['isbn']:\n",
    "            if book in occurrences:\n",
    "                occurrences[book] += 1\n",
    "            else:\n",
    "                occurrences[book] = 1\n",
    "        sorted_occurrences = sorted(occurrences.items(), key=lambda x: x[1], reverse=True)\n",
    "        top_5_books = [x[0] for x in sorted_occurrences[:top_n]]\n",
    "        for book in top_5_books:\n",
    "            f=open('list.txt', 'a')\n",
    "            f.write(f\"{book}:{occurrences[book]}\\n\")\n",
    "            f.close()\n",
    "    for item in tqdm(items, desc=f\"Processing current item, layer {layer_count}\"):\n",
    "        # next_layer_items = next_layer_df[next_layer_df[current_layer_column_name] == item][next_layer_column_name].unique()\n",
    "        sorted_items = next_layer_df.sort_values(by='book_rating', ascending=False)\n",
    "        filtered_sorted_items = sorted_items[sorted_items[current_layer_column_name] == item]\n",
    "        # Get unique values and pick top 5\n",
    "        top_5_next_layer_items = filtered_sorted_items[next_layer_column_name].unique()[:top_n]\n",
    "        for next_layer_item in top_5_next_layer_items:\n",
    "            temp_set.add(next_layer_item)\n",
    "            try:\n",
    "                next_item = next_item_df[next_item_df[next_layer_column_name]==next_layer_item].iloc[0]\n",
    "                base_name = f\"{layer_count}_{next_layer_column_name}:{next_item[next_layer_column_name]}\"\n",
    "                title = ''\n",
    "                if(next_layer_column_name=='isbn'):\n",
    "                    title = f\"layer:{layer_count}\\nisbn:{next_item['isbn']}\\nbook_title:{next_item['book_title']}\\nbook_author:{next_item['book_author']}\"\n",
    "                else:\n",
    "                    title = f\"layer:{layer_count}\\nuser_id:{next_item['user_id']}\\nlocation:{next_item['location']}\\nage:{next_item['age']}\"\n",
    "                G.add_node(base_name,title=title, color=getColor(layer_count), size=getSize(layer_count))\n",
    "                G.add_edge(f\"{layer_count-1}_{current_layer_column_name}:{item}\",base_name)\n",
    "            except IndexError:\n",
    "                print(f\"IndexError: {next_layer_item}\")\n",
    "                temp_set.discard(next_layer_item)\n",
    "    return temp_set"
   ]
  },
  {
   "cell_type": "code",
   "execution_count": null,
   "metadata": {},
   "outputs": [],
   "source": [
    "def buildLayers(_target_user_id, _layer_count, _df, _G:nx.Graph,top_n:int=5):\n",
    "    root_user = users_df[users_df['user_id']==_target_user_id].iloc[0]\n",
    "    title = f\"0_user_id:{root_user['user_id']}\\nlocation:{root_user['location']}\\nage:{root_user['age']}\"\n",
    "    _G.add_node(f\"0_user_id:{_target_user_id}\", label=str(_target_user_id), color=\"#611C35\",size = getSize(0),title=title)\n",
    "    # Building the tree\n",
    "    current_layer_users = set()\n",
    "    current_layer_users.add(_target_user_id)\n",
    "    for layer in tqdm(range(1, _layer_count + 1), desc=\"Building the layer\"):\n",
    "        if layer % 2 == 1:  # Odd layers: find books\n",
    "            current_layer_users = processing(current_layer_users, _df, 'user_id', 'isbn', layer, _G, books_df,top_n)\n",
    "        else:  # Even layers: find users\n",
    "            current_layer_users = processing(current_layer_users, _df, 'isbn', 'user_id', layer, _G, users_df,top_n)"
   ]
  },
  {
   "cell_type": "code",
   "execution_count": null,
   "metadata": {},
   "outputs": [],
   "source": [
    "# def buildLayers(_target_user_id, _layer_count, _df, _G:nx.Graph):\n",
    "#     _G.add_node(f\"0_{_target_user_id}\", label=str(_target_user_id), color=\"#611C35\",size = getSize(0),title=f\"User ID: {_target_user_id}\")\n",
    "#     # Building the tree\n",
    "#     current_layer_users = {_target_user_id}\n",
    "#     for layer in tqdm(range(1, _layer_count + 1), desc=\"Building the layer\"):\n",
    "#         if layer % 2 == 1:  # Odd layers: find books\n",
    "#             books = _df[_df['user_id'].isin(current_layer_users)]['isbn'].unique()\n",
    "#             for book in tqdm(books, desc=f\"Building the book layer {layer}\"):\n",
    "#                 try:\n",
    "#                     book_row = books_df[books_df['isbn'] == book].iloc[0]\n",
    "#                     book_title = f\"title:{book_row['book_title']};\\nisbn:{book_row['isbn']}\"\n",
    "#                     _G.add_node(f\"{layer}_{book}\", color=getColor(layer),size = getSize(layer), title=book_title)\n",
    "#                     for user in current_layer_users:\n",
    "#                     # Check if the user has rated this book\n",
    "#                         if not _df[(_df['user_id'] == user) & (_df['isbn'] == book)].empty:\n",
    "#                             _G.add_edge(f\"{layer-1}_{user}\", f\"{layer}_{book}\", color=getColor(layer))\n",
    "#                 except IndexError:\n",
    "#                     books.discard(book)\n",
    "#             current_layer_users = set(books)\n",
    "#         else:  # Even layers: find users\n",
    "#             users = _df[_df['isbn'].isin(current_layer_users)]['user_id'].unique()\n",
    "#             for user in tqdm(users, desc=f\"Building the user layer {layer}\"):\n",
    "#                 try:\n",
    "#                     user_title = f\"{users_df[users_df['user_id'] == user].iloc[0]['user_id']}\"\n",
    "#                     _G.add_node(f\"{layer}_{user}\", color=getColor(layer),size = getSize(layer), title=f\"User ID: {user_title}\")\n",
    "#                     for book in current_layer_users:\n",
    "#                         # Check if the user has rated this book\n",
    "#                         if not _df[(_df['user_id'] == user) & (_df['isbn'] == book)].empty:\n",
    "#                             _G.add_edge(f\"{layer-1}_{book}\", f\"{layer}_{user}\", color=getColor(layer))\n",
    "#                 except IndexError:\n",
    "#                     users.discard(user)\n",
    "                \n",
    "#             current_layer_users = set(users)"
   ]
  },
  {
   "cell_type": "code",
   "execution_count": null,
   "metadata": {},
   "outputs": [],
   "source": [
    "# Initialize Pyvis Network\n",
    "net = Network(notebook=True,select_menu=True)\n",
    "# net.show_buttons(filter_=['physics'])\n",
    "net.barnes_hut()\n",
    "G = nx.Graph()\n",
    "\n",
    "# Initialize variables\n",
    "target_user_id = 236198\n",
    "layer_count = 3\n",
    "top_n=10000\n",
    "\n",
    "buildLayers(target_user_id,layer_count,df,G,top_n=top_n)\n",
    "print(f\"Number of nodes: {len(G.nodes)}\")\n",
    "print(f\"Number of edges: {len(G.edges)}\")\n",
    "net.from_nx(G)\n",
    "# Display the network\n",
    "filename = f'user_book_network_{target_user_id}.html'\n",
    "net.write_html(filename)\n",
    "file = open(filename,'r')\n",
    "content = file.read()\n",
    "content = content.replace('id=\"mynetwork\"', 'id=\"mynetwork\" style=\"height: 100dvh;\"')\n",
    "file.close()\n",
    "file = open(filename,'w')\n",
    "file.write(content)\n",
    "file.close()\n",
    "webbrowser.open(f'{filename}')"
   ]
  }
 ],
 "metadata": {
  "kernelspec": {
   "display_name": ".venv",
   "language": "python",
   "name": "python3"
  },
  "language_info": {
   "codemirror_mode": {
    "name": "ipython",
    "version": 3
   },
   "file_extension": ".py",
   "mimetype": "text/x-python",
   "name": "python",
   "nbconvert_exporter": "python",
   "pygments_lexer": "ipython3",
   "version": "3.10.12"
  }
 },
 "nbformat": 4,
 "nbformat_minor": 2
}
