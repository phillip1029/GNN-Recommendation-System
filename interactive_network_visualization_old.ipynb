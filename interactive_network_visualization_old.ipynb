{
 "cells": [
  {
   "cell_type": "code",
   "execution_count": null,
   "metadata": {},
   "outputs": [],
   "source": [
    "# import libraries\n",
    "from pyvis.network import Network  # Interactive network visualization\n",
    "import pandas as pd # Data Frame\n",
    "import networkx as nx # Network analysis\n",
    "from tqdm.notebook import tqdm # Progress bar\n",
    "import matplotlib.pyplot as plt\n",
    "from sklearn.preprocessing import MinMaxScaler\n",
    "import community as community_louvain"
   ]
  },
  {
   "cell_type": "code",
   "execution_count": null,
   "metadata": {},
   "outputs": [],
   "source": [
    "# Read data\n",
    "ratings_df = pd.read_csv('data/BX-Book-Ratings.csv', sep=';', encoding='latin-1')\n",
    "users_df = pd.read_csv('data/BX-Users.csv', sep=';', encoding='latin-1')\n",
    "books_df = pd.read_csv('data/BX-Books.csv', sep=';', encoding='latin-1', on_bad_lines='skip')"
   ]
  },
  {
   "cell_type": "code",
   "execution_count": null,
   "metadata": {},
   "outputs": [],
   "source": [
    "books_df.columns = books_df.columns.str.lower()\n",
    "books_df.columns = books_df.columns.str.replace('-','_')\n",
    "books_df.head()"
   ]
  },
  {
   "cell_type": "code",
   "execution_count": null,
   "metadata": {},
   "outputs": [],
   "source": [
    "users_df.columns = users_df.columns.str.lower()\n",
    "users_df.columns = users_df.columns.str.replace('-','_')\n",
    "users_df.head()"
   ]
  },
  {
   "cell_type": "code",
   "execution_count": null,
   "metadata": {},
   "outputs": [],
   "source": [
    "ratings_df.columns = ratings_df.columns.str.lower()\n",
    "ratings_df.columns = ratings_df.columns.str.replace('-','_')\n",
    "ratings_df.head()"
   ]
  },
  {
   "cell_type": "code",
   "execution_count": null,
   "metadata": {},
   "outputs": [],
   "source": [
    "scaler = MinMaxScaler()\n",
    "ratings_df['normalized_rating'] = scaler.fit_transform(ratings_df[['book_rating']])"
   ]
  },
  {
   "cell_type": "code",
   "execution_count": null,
   "metadata": {},
   "outputs": [],
   "source": [
    "# Creating a new graph\n",
    "G = nx.Graph()"
   ]
  },
  {
   "cell_type": "code",
   "execution_count": null,
   "metadata": {},
   "outputs": [],
   "source": [
    "# Sampling from ratings dataframe\n",
    "sample_fraction = 0.1\n",
    "ratings_df_sample = ratings_df.sample(frac=sample_fraction, random_state=42)\n",
    "\n",
    "# Preparing titles for users and books\n",
    "users_df['title'] =users_df['user_id'].astype(str) + \", \" + users_df['location'] + \", Age: \" + users_df['age'].fillna('Unknown').astype(str)\n",
    "user_titles = users_df.set_index('user_id')['title'].to_dict()\n",
    "\n",
    "books_df['title'] = books_df['isbn'].astype(str) + \", \" + books_df['book_title'] + \", \" + books_df['book_author']\n",
    "book_titles = books_df.set_index('isbn')['title'].to_dict()\n",
    "\n",
    "# # Adding user and book nodes\n",
    "# users = ratings_df_sample['user_id'].unique()\n",
    "# books = ratings_df_sample['isbn'].unique()\n",
    "# G.add_nodes_from(users, bipartite=0)\n",
    "# G.add_nodes_from(books, bipartite=1)\n",
    "\n",
    "# # Setting node attributes for titles\n",
    "# nx.set_node_attributes(G, user_titles, 'title')\n",
    "# nx.set_node_attributes(G, book_titles, 'title')\n",
    "\n",
    "# # Optionally setting color and label attributes\n",
    "# user_attributes = {user: {'color': '#A7BED3', 'label': 'user'} for user in users}\n",
    "# book_attributes = {book: {'color': '#FFCAAF', 'label': 'book'} for book in books}\n",
    "# nx.set_node_attributes(G, user_attributes)\n",
    "# nx.set_node_attributes(G, book_attributes)\n",
    "\n",
    "with tqdm(total=len(ratings_df_sample)) as pbar:\n",
    "    for _, row in ratings_df_sample.iterrows():\n",
    "        if (row['isbn'] not in book_titles):\n",
    "            book_title = 'undefined'\n",
    "        else:\n",
    "            book_title = book_titles[row['isbn']]\n",
    "        G.add_node(row['user_id'], bipartite=0, title=user_titles[row['user_id']], color='#A7BED3', label='user',type='user')\n",
    "        G.add_node(row['isbn'], bipartite=1, title=book_title, color='#FFCAAF', label='book',type='book')    \n",
    "        G.add_edge(row['user_id'], row['isbn'],weight=row['normalized_rating'])\n",
    "        pbar.update(1)\n",
    "print(f\"Number of nodes in G: {len(G.nodes)}\")"
   ]
  },
  {
   "cell_type": "code",
   "execution_count": null,
   "metadata": {},
   "outputs": [],
   "source": [
    "partition = community_louvain.best_partition(G)\n",
    "nx.set_node_attributes(G, partition, 'community')"
   ]
  },
  {
   "cell_type": "code",
   "execution_count": null,
   "metadata": {},
   "outputs": [],
   "source": [
    "degree_centrality = nx.degree_centrality(G)"
   ]
  },
  {
   "cell_type": "code",
   "execution_count": null,
   "metadata": {},
   "outputs": [],
   "source": [
    "threshold = 0.001  # Adjust the threshold as needed\n",
    "print(degree_centrality)\n",
    "\n",
    "# Filter nodes based on degree centrality\n",
    "filtered_nodes = [node for node, centrality in degree_centrality.items() if centrality >= threshold]\n",
    "\n",
    "# Create a subgraph with filtered nodes and their edges\n",
    "G = G.subgraph(filtered_nodes)\n",
    "print(f\"Number of nodes in filtered_nodes: {len(filtered_nodes)}\")"
   ]
  },
  {
   "cell_type": "code",
   "execution_count": null,
   "metadata": {},
   "outputs": [],
   "source": [
    "print(f\"Number of nodes in filtered_nodes: {len(filtered_nodes)}\")"
   ]
  },
  {
   "cell_type": "code",
   "execution_count": null,
   "metadata": {},
   "outputs": [],
   "source": [
    "nodes_with_one_connection = [node for node, degree in G.degree() if degree > 1]\n",
    "G = G.subgraph(nodes_with_one_connection)\n",
    "print(f\"Number of nodes in nodes_with_one_connection: {len(nodes_with_one_connection)}\")"
   ]
  },
  {
   "cell_type": "code",
   "execution_count": null,
   "metadata": {},
   "outputs": [],
   "source": [
    "net = Network(notebook=True)\n",
    "net.barnes_hut()"
   ]
  },
  {
   "cell_type": "code",
   "execution_count": null,
   "metadata": {},
   "outputs": [],
   "source": [
    "# nxg = nx.relabel.convert_node_labels_to_integers(nxg, first_label=1, ordering='default', label_attribute=None)\n",
    "with tqdm(total=len(G.nodes)) as pbar_label:\n",
    "    G = nx.relabel.convert_node_labels_to_integers(G, first_label=1, ordering='default', label_attribute=None)\n",
    "    pbar_label.update(len(G.nodes))"
   ]
  },
  {
   "cell_type": "code",
   "execution_count": null,
   "metadata": {},
   "outputs": [],
   "source": [
    "len(G.nodes)"
   ]
  },
  {
   "cell_type": "code",
   "execution_count": null,
   "metadata": {},
   "outputs": [],
   "source": [
    "net.from_nx(G)"
   ]
  },
  {
   "cell_type": "code",
   "execution_count": null,
   "metadata": {},
   "outputs": [],
   "source": [
    "net.write_html('graph.html',open_browser=True)"
   ]
  }
 ],
 "metadata": {
  "kernelspec": {
   "display_name": ".venv",
   "language": "python",
   "name": "python3"
  },
  "language_info": {
   "codemirror_mode": {
    "name": "ipython",
    "version": 3
   },
   "file_extension": ".py",
   "mimetype": "text/x-python",
   "name": "python",
   "nbconvert_exporter": "python",
   "pygments_lexer": "ipython3",
   "version": "3.10.12"
  }
 },
 "nbformat": 4,
 "nbformat_minor": 2
}
